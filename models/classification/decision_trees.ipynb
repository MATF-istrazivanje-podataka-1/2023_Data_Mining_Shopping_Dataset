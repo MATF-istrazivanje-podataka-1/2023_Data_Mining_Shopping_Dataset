{
 "cells": [
  {
   "cell_type": "code",
   "execution_count": 18,
   "id": "ec5019be",
   "metadata": {},
   "outputs": [],
   "source": [
    "import numpy as np\n",
    "import pandas as pd\n",
    "import seaborn as sns\n",
    "import matplotlib.pyplot as plt\n",
    "from sklearn.model_selection import train_test_split\n",
    "from sklearn.preprocessing import StandardScaler\n",
    "from imblearn.over_sampling import SMOTE\n",
    "from sklearn.tree import DecisionTreeClassifier\n",
    "from sklearn.metrics import accuracy_score\n",
    "from sklearn.metrics import classification_report\n",
    "from sklearn.metrics import confusion_matrix\n",
    "from sklearn.metrics import ConfusionMatrixDisplay\n",
    "from sklearn.model_selection import GridSearchCV\n",
    "from sklearn.metrics import roc_curve, auc\n",
    "from joblib import load"
   ]
  },
  {
   "cell_type": "code",
   "execution_count": 19,
   "id": "04e35e80",
   "metadata": {},
   "outputs": [],
   "source": [
    "X_train, X_test, y_train, y_test, X_train_scaled, X_test_scaled = load('../../analysis and preprocessing/classification_preprocessed.joblib')"
   ]
  },
  {
   "cell_type": "code",
   "execution_count": 20,
   "id": "a1532731",
   "metadata": {},
   "outputs": [],
   "source": [
    "def cnf_matrix(y_pred_test, colormap): \n",
    "    conf_matrix = confusion_matrix(y_test, y_pred_test)\n",
    "    cm_display = ConfusionMatrixDisplay(confusion_matrix=conf_matrix, \n",
    "                                        display_labels=[False, True])\n",
    "    \n",
    "    cm_display = cm_display.plot(cmap=colormap, values_format='g')\n"
   ]
  },
  {
   "cell_type": "code",
   "execution_count": 21,
   "id": "a06bc5e1",
   "metadata": {},
   "outputs": [],
   "source": [
    "params = {\n",
    "    'max_depth' : [3, 5, 7, 10, 15, 20],\n",
    "    'criterion' : ['gini', 'entropy']\n",
    "}"
   ]
  },
  {
   "cell_type": "code",
   "execution_count": 22,
   "id": "4d26db48",
   "metadata": {},
   "outputs": [
    {
     "name": "stdout",
     "output_type": "stream",
     "text": [
      "Fitting 5 folds for each of 12 candidates, totalling 60 fits\n",
      "[CV 1/5] END .......criterion=gini, max_depth=3;, score=0.897 total time=   0.0s\n",
      "[CV 2/5] END .......criterion=gini, max_depth=3;, score=0.899 total time=   0.0s\n",
      "[CV 3/5] END .......criterion=gini, max_depth=3;, score=0.887 total time=   0.0s\n",
      "[CV 4/5] END .......criterion=gini, max_depth=3;, score=0.879 total time=   0.0s\n",
      "[CV 5/5] END .......criterion=gini, max_depth=3;, score=0.889 total time=   0.0s\n",
      "[CV 1/5] END .......criterion=gini, max_depth=5;, score=0.903 total time=   0.0s\n",
      "[CV 2/5] END .......criterion=gini, max_depth=5;, score=0.908 total time=   0.0s\n",
      "[CV 3/5] END .......criterion=gini, max_depth=5;, score=0.896 total time=   0.0s\n",
      "[CV 4/5] END .......criterion=gini, max_depth=5;, score=0.886 total time=   0.0s\n",
      "[CV 5/5] END .......criterion=gini, max_depth=5;, score=0.886 total time=   0.0s\n",
      "[CV 1/5] END .......criterion=gini, max_depth=7;, score=0.900 total time=   0.0s\n",
      "[CV 2/5] END .......criterion=gini, max_depth=7;, score=0.894 total time=   0.0s\n",
      "[CV 3/5] END .......criterion=gini, max_depth=7;, score=0.890 total time=   0.1s\n",
      "[CV 4/5] END .......criterion=gini, max_depth=7;, score=0.883 total time=   0.0s\n",
      "[CV 5/5] END .......criterion=gini, max_depth=7;, score=0.890 total time=   0.0s\n",
      "[CV 1/5] END ......criterion=gini, max_depth=10;, score=0.887 total time=   0.1s\n",
      "[CV 2/5] END ......criterion=gini, max_depth=10;, score=0.894 total time=   0.1s\n",
      "[CV 3/5] END ......criterion=gini, max_depth=10;, score=0.880 total time=   0.1s\n",
      "[CV 4/5] END ......criterion=gini, max_depth=10;, score=0.878 total time=   0.0s\n",
      "[CV 5/5] END ......criterion=gini, max_depth=10;, score=0.878 total time=   0.1s\n",
      "[CV 1/5] END ......criterion=gini, max_depth=15;, score=0.881 total time=   0.1s\n",
      "[CV 2/5] END ......criterion=gini, max_depth=15;, score=0.872 total time=   0.1s\n",
      "[CV 3/5] END ......criterion=gini, max_depth=15;, score=0.870 total time=   0.1s\n",
      "[CV 4/5] END ......criterion=gini, max_depth=15;, score=0.857 total time=   0.2s\n",
      "[CV 5/5] END ......criterion=gini, max_depth=15;, score=0.866 total time=   0.1s\n",
      "[CV 1/5] END ......criterion=gini, max_depth=20;, score=0.878 total time=   0.1s\n",
      "[CV 2/5] END ......criterion=gini, max_depth=20;, score=0.878 total time=   0.2s\n",
      "[CV 3/5] END ......criterion=gini, max_depth=20;, score=0.878 total time=   0.2s\n",
      "[CV 4/5] END ......criterion=gini, max_depth=20;, score=0.853 total time=   0.2s\n",
      "[CV 5/5] END ......criterion=gini, max_depth=20;, score=0.858 total time=   0.1s\n",
      "[CV 1/5] END ....criterion=entropy, max_depth=3;, score=0.897 total time=   0.0s\n",
      "[CV 2/5] END ....criterion=entropy, max_depth=3;, score=0.899 total time=   0.0s\n",
      "[CV 3/5] END ....criterion=entropy, max_depth=3;, score=0.887 total time=   0.0s\n",
      "[CV 4/5] END ....criterion=entropy, max_depth=3;, score=0.875 total time=   0.0s\n",
      "[CV 5/5] END ....criterion=entropy, max_depth=3;, score=0.894 total time=   0.0s\n",
      "[CV 1/5] END ....criterion=entropy, max_depth=5;, score=0.903 total time=   0.0s\n",
      "[CV 2/5] END ....criterion=entropy, max_depth=5;, score=0.912 total time=   0.0s\n",
      "[CV 3/5] END ....criterion=entropy, max_depth=5;, score=0.895 total time=   0.1s\n",
      "[CV 4/5] END ....criterion=entropy, max_depth=5;, score=0.881 total time=   0.0s\n",
      "[CV 5/5] END ....criterion=entropy, max_depth=5;, score=0.887 total time=   0.0s\n",
      "[CV 1/5] END ....criterion=entropy, max_depth=7;, score=0.901 total time=   0.0s\n",
      "[CV 2/5] END ....criterion=entropy, max_depth=7;, score=0.898 total time=   0.0s\n",
      "[CV 3/5] END ....criterion=entropy, max_depth=7;, score=0.890 total time=   0.1s\n",
      "[CV 4/5] END ....criterion=entropy, max_depth=7;, score=0.874 total time=   0.0s\n",
      "[CV 5/5] END ....criterion=entropy, max_depth=7;, score=0.892 total time=   0.0s\n",
      "[CV 1/5] END ...criterion=entropy, max_depth=10;, score=0.890 total time=   0.1s\n",
      "[CV 2/5] END ...criterion=entropy, max_depth=10;, score=0.894 total time=   0.1s\n",
      "[CV 3/5] END ...criterion=entropy, max_depth=10;, score=0.881 total time=   0.0s\n",
      "[CV 4/5] END ...criterion=entropy, max_depth=10;, score=0.872 total time=   0.0s\n",
      "[CV 5/5] END ...criterion=entropy, max_depth=10;, score=0.885 total time=   0.1s\n",
      "[CV 1/5] END ...criterion=entropy, max_depth=15;, score=0.889 total time=   0.1s\n",
      "[CV 2/5] END ...criterion=entropy, max_depth=15;, score=0.880 total time=   0.1s\n",
      "[CV 3/5] END ...criterion=entropy, max_depth=15;, score=0.869 total time=   0.1s\n",
      "[CV 4/5] END ...criterion=entropy, max_depth=15;, score=0.868 total time=   0.1s\n",
      "[CV 5/5] END ...criterion=entropy, max_depth=15;, score=0.872 total time=   0.1s\n",
      "[CV 1/5] END ...criterion=entropy, max_depth=20;, score=0.879 total time=   0.1s\n",
      "[CV 2/5] END ...criterion=entropy, max_depth=20;, score=0.873 total time=   0.2s\n",
      "[CV 3/5] END ...criterion=entropy, max_depth=20;, score=0.865 total time=   0.1s\n",
      "[CV 4/5] END ...criterion=entropy, max_depth=20;, score=0.865 total time=   0.1s\n",
      "[CV 5/5] END ...criterion=entropy, max_depth=20;, score=0.865 total time=   0.1s\n"
     ]
    },
    {
     "data": {
      "text/plain": [
       "{'criterion': 'entropy', 'max_depth': 5}"
      ]
     },
     "execution_count": 22,
     "metadata": {},
     "output_type": "execute_result"
    }
   ],
   "source": [
    "tree_classifier = DecisionTreeClassifier()\n",
    "grid = GridSearchCV(estimator=tree_classifier, \n",
    "                    param_grid=params, \n",
    "                    cv=5, \n",
    "                    verbose=8)\n",
    "grid.fit(X_train_scaled, y_train)\n",
    "grid.best_params_"
   ]
  },
  {
   "cell_type": "code",
   "execution_count": 23,
   "id": "6804d2cf",
   "metadata": {},
   "outputs": [
    {
     "data": {
      "text/html": [
       "<style>#sk-container-id-3 {color: black;background-color: white;}#sk-container-id-3 pre{padding: 0;}#sk-container-id-3 div.sk-toggleable {background-color: white;}#sk-container-id-3 label.sk-toggleable__label {cursor: pointer;display: block;width: 100%;margin-bottom: 0;padding: 0.3em;box-sizing: border-box;text-align: center;}#sk-container-id-3 label.sk-toggleable__label-arrow:before {content: \"▸\";float: left;margin-right: 0.25em;color: #696969;}#sk-container-id-3 label.sk-toggleable__label-arrow:hover:before {color: black;}#sk-container-id-3 div.sk-estimator:hover label.sk-toggleable__label-arrow:before {color: black;}#sk-container-id-3 div.sk-toggleable__content {max-height: 0;max-width: 0;overflow: hidden;text-align: left;background-color: #f0f8ff;}#sk-container-id-3 div.sk-toggleable__content pre {margin: 0.2em;color: black;border-radius: 0.25em;background-color: #f0f8ff;}#sk-container-id-3 input.sk-toggleable__control:checked~div.sk-toggleable__content {max-height: 200px;max-width: 100%;overflow: auto;}#sk-container-id-3 input.sk-toggleable__control:checked~label.sk-toggleable__label-arrow:before {content: \"▾\";}#sk-container-id-3 div.sk-estimator input.sk-toggleable__control:checked~label.sk-toggleable__label {background-color: #d4ebff;}#sk-container-id-3 div.sk-label input.sk-toggleable__control:checked~label.sk-toggleable__label {background-color: #d4ebff;}#sk-container-id-3 input.sk-hidden--visually {border: 0;clip: rect(1px 1px 1px 1px);clip: rect(1px, 1px, 1px, 1px);height: 1px;margin: -1px;overflow: hidden;padding: 0;position: absolute;width: 1px;}#sk-container-id-3 div.sk-estimator {font-family: monospace;background-color: #f0f8ff;border: 1px dotted black;border-radius: 0.25em;box-sizing: border-box;margin-bottom: 0.5em;}#sk-container-id-3 div.sk-estimator:hover {background-color: #d4ebff;}#sk-container-id-3 div.sk-parallel-item::after {content: \"\";width: 100%;border-bottom: 1px solid gray;flex-grow: 1;}#sk-container-id-3 div.sk-label:hover label.sk-toggleable__label {background-color: #d4ebff;}#sk-container-id-3 div.sk-serial::before {content: \"\";position: absolute;border-left: 1px solid gray;box-sizing: border-box;top: 0;bottom: 0;left: 50%;z-index: 0;}#sk-container-id-3 div.sk-serial {display: flex;flex-direction: column;align-items: center;background-color: white;padding-right: 0.2em;padding-left: 0.2em;position: relative;}#sk-container-id-3 div.sk-item {position: relative;z-index: 1;}#sk-container-id-3 div.sk-parallel {display: flex;align-items: stretch;justify-content: center;background-color: white;position: relative;}#sk-container-id-3 div.sk-item::before, #sk-container-id-3 div.sk-parallel-item::before {content: \"\";position: absolute;border-left: 1px solid gray;box-sizing: border-box;top: 0;bottom: 0;left: 50%;z-index: -1;}#sk-container-id-3 div.sk-parallel-item {display: flex;flex-direction: column;z-index: 1;position: relative;background-color: white;}#sk-container-id-3 div.sk-parallel-item:first-child::after {align-self: flex-end;width: 50%;}#sk-container-id-3 div.sk-parallel-item:last-child::after {align-self: flex-start;width: 50%;}#sk-container-id-3 div.sk-parallel-item:only-child::after {width: 0;}#sk-container-id-3 div.sk-dashed-wrapped {border: 1px dashed gray;margin: 0 0.4em 0.5em 0.4em;box-sizing: border-box;padding-bottom: 0.4em;background-color: white;}#sk-container-id-3 div.sk-label label {font-family: monospace;font-weight: bold;display: inline-block;line-height: 1.2em;}#sk-container-id-3 div.sk-label-container {text-align: center;}#sk-container-id-3 div.sk-container {/* jupyter's `normalize.less` sets `[hidden] { display: none; }` but bootstrap.min.css set `[hidden] { display: none !important; }` so we also need the `!important` here to be able to override the default hidden behavior on the sphinx rendered scikit-learn.org. See: https://github.com/scikit-learn/scikit-learn/issues/21755 */display: inline-block !important;position: relative;}#sk-container-id-3 div.sk-text-repr-fallback {display: none;}</style><div id=\"sk-container-id-3\" class=\"sk-top-container\"><div class=\"sk-text-repr-fallback\"><pre>DecisionTreeClassifier(criterion=&#x27;entropy&#x27;, max_depth=5)</pre><b>In a Jupyter environment, please rerun this cell to show the HTML representation or trust the notebook. <br />On GitHub, the HTML representation is unable to render, please try loading this page with nbviewer.org.</b></div><div class=\"sk-container\" hidden><div class=\"sk-item\"><div class=\"sk-estimator sk-toggleable\"><input class=\"sk-toggleable__control sk-hidden--visually\" id=\"sk-estimator-id-3\" type=\"checkbox\" checked><label for=\"sk-estimator-id-3\" class=\"sk-toggleable__label sk-toggleable__label-arrow\">DecisionTreeClassifier</label><div class=\"sk-toggleable__content\"><pre>DecisionTreeClassifier(criterion=&#x27;entropy&#x27;, max_depth=5)</pre></div></div></div></div></div>"
      ],
      "text/plain": [
       "DecisionTreeClassifier(criterion='entropy', max_depth=5)"
      ]
     },
     "execution_count": 23,
     "metadata": {},
     "output_type": "execute_result"
    }
   ],
   "source": [
    "tree_classifier = DecisionTreeClassifier(criterion = 'entropy', max_depth = 5)\n",
    "tree_classifier.fit(X_train_scaled, y_train)"
   ]
  },
  {
   "cell_type": "code",
   "execution_count": 24,
   "id": "58668ca7",
   "metadata": {},
   "outputs": [
    {
     "name": "stdout",
     "output_type": "stream",
     "text": [
      "Train result: 0.9046403712296984\n",
      "Taest result: 0.8925575101488498\n",
      "\n",
      "               precision    recall  f1-score   support\n",
      "\n",
      "           0       0.92      0.96      0.94      3123\n",
      "           1       0.71      0.52      0.60       572\n",
      "\n",
      "    accuracy                           0.89      3695\n",
      "   macro avg       0.81      0.74      0.77      3695\n",
      "weighted avg       0.88      0.89      0.89      3695\n",
      "\n"
     ]
    },
    {
     "data": {
      "image/png": "[encoded data removed]",
      "text/plain": [
       "<Figure size 432x288 with 2 Axes>"
      ]
     },
     "metadata": {
      "needs_background": "light"
     },
     "output_type": "display_data"
    }
   ],
   "source": [
    "y_pred_train = tree_classifier.predict(X_train_scaled)\n",
    "y_pred_test = tree_classifier.predict(X_test_scaled)\n",
    "    \n",
    "train_result = accuracy_score(y_train, y_pred_train)\n",
    "print(\"Train result:\", train_result)\n",
    "test_result = accuracy_score(y_test, y_pred_test)\n",
    "print(\"Taest result:\", test_result)\n",
    "print(\"\\n\", classification_report(y_test, y_pred_test))\n",
    "\n",
    "cnf_matrix(y_pred_test, plt.cm.Greens)"
   ]
  },
  {
   "cell_type": "markdown",
   "id": "919e9a3e",
   "metadata": {},
   "source": [
    "### Sada sa balansiranjem klasa"
   ]
  },
  {
   "cell_type": "code",
   "execution_count": 25,
   "id": "9206eca4",
   "metadata": {},
   "outputs": [],
   "source": [
    "oversample = SMOTE(random_state = 2, sampling_strategy = 'minority')\n",
    "X_train_smote, y_train = oversample.fit_resample(X_train_scaled, y_train.ravel())"
   ]
  },
  {
   "cell_type": "code",
   "execution_count": 26,
   "id": "8418029c",
   "metadata": {},
   "outputs": [],
   "source": [
    "params_smt = {\n",
    "    'max_depth' : [3, 5, 7, 10, 15, 20],\n",
    "    'criterion' : ['gini', 'entropy']\n",
    "}"
   ]
  },
  {
   "cell_type": "code",
   "execution_count": 27,
   "id": "afde51eb",
   "metadata": {},
   "outputs": [
    {
     "name": "stdout",
     "output_type": "stream",
     "text": [
      "Fitting 5 folds for each of 12 candidates, totalling 60 fits\n",
      "[CV 1/5] END .......criterion=gini, max_depth=3;, score=0.860 total time=   0.1s\n",
      "[CV 2/5] END .......criterion=gini, max_depth=3;, score=0.915 total time=   0.1s\n",
      "[CV 3/5] END .......criterion=gini, max_depth=3;, score=0.916 total time=   0.1s\n",
      "[CV 4/5] END .......criterion=gini, max_depth=3;, score=0.902 total time=   0.1s\n",
      "[CV 5/5] END .......criterion=gini, max_depth=3;, score=0.902 total time=   0.1s\n",
      "[CV 1/5] END .......criterion=gini, max_depth=5;, score=0.830 total time=   0.1s\n",
      "[CV 2/5] END .......criterion=gini, max_depth=5;, score=0.927 total time=   0.1s\n",
      "[CV 3/5] END .......criterion=gini, max_depth=5;, score=0.916 total time=   0.1s\n",
      "[CV 4/5] END .......criterion=gini, max_depth=5;, score=0.904 total time=   0.1s\n",
      "[CV 5/5] END .......criterion=gini, max_depth=5;, score=0.914 total time=   0.1s\n",
      "[CV 1/5] END .......criterion=gini, max_depth=7;, score=0.822 total time=   0.1s\n",
      "[CV 2/5] END .......criterion=gini, max_depth=7;, score=0.925 total time=   0.1s\n",
      "[CV 3/5] END .......criterion=gini, max_depth=7;, score=0.921 total time=   0.1s\n",
      "[CV 4/5] END .......criterion=gini, max_depth=7;, score=0.908 total time=   0.1s\n",
      "[CV 5/5] END .......criterion=gini, max_depth=7;, score=0.917 total time=   0.1s\n",
      "[CV 1/5] END ......criterion=gini, max_depth=10;, score=0.838 total time=   0.1s\n",
      "[CV 2/5] END ......criterion=gini, max_depth=10;, score=0.929 total time=   0.1s\n",
      "[CV 3/5] END ......criterion=gini, max_depth=10;, score=0.923 total time=   0.1s\n",
      "[CV 4/5] END ......criterion=gini, max_depth=10;, score=0.915 total time=   0.3s\n",
      "[CV 5/5] END ......criterion=gini, max_depth=10;, score=0.920 total time=   0.3s\n",
      "[CV 1/5] END ......criterion=gini, max_depth=15;, score=0.816 total time=   0.2s\n",
      "[CV 2/5] END ......criterion=gini, max_depth=15;, score=0.930 total time=   0.2s\n",
      "[CV 3/5] END ......criterion=gini, max_depth=15;, score=0.923 total time=   0.2s\n",
      "[CV 4/5] END ......criterion=gini, max_depth=15;, score=0.919 total time=   0.4s\n",
      "[CV 5/5] END ......criterion=gini, max_depth=15;, score=0.921 total time=   0.2s\n",
      "[CV 1/5] END ......criterion=gini, max_depth=20;, score=0.812 total time=   0.2s\n",
      "[CV 2/5] END ......criterion=gini, max_depth=20;, score=0.931 total time=   0.2s\n",
      "[CV 3/5] END ......criterion=gini, max_depth=20;, score=0.923 total time=   0.2s\n",
      "[CV 4/5] END ......criterion=gini, max_depth=20;, score=0.913 total time=   0.1s\n",
      "[CV 5/5] END ......criterion=gini, max_depth=20;, score=0.917 total time=   0.2s\n",
      "[CV 1/5] END ....criterion=entropy, max_depth=3;, score=0.860 total time=   0.1s\n",
      "[CV 2/5] END ....criterion=entropy, max_depth=3;, score=0.915 total time=   0.1s\n",
      "[CV 3/5] END ....criterion=entropy, max_depth=3;, score=0.916 total time=   0.1s\n",
      "[CV 4/5] END ....criterion=entropy, max_depth=3;, score=0.900 total time=   0.1s\n",
      "[CV 5/5] END ....criterion=entropy, max_depth=3;, score=0.902 total time=   0.1s\n",
      "[CV 1/5] END ....criterion=entropy, max_depth=5;, score=0.845 total time=   0.1s\n",
      "[CV 2/5] END ....criterion=entropy, max_depth=5;, score=0.926 total time=   0.1s\n",
      "[CV 3/5] END ....criterion=entropy, max_depth=5;, score=0.922 total time=   0.1s\n",
      "[CV 4/5] END ....criterion=entropy, max_depth=5;, score=0.907 total time=   0.1s\n",
      "[CV 5/5] END ....criterion=entropy, max_depth=5;, score=0.909 total time=   0.1s\n",
      "[CV 1/5] END ....criterion=entropy, max_depth=7;, score=0.840 total time=   0.1s\n",
      "[CV 2/5] END ....criterion=entropy, max_depth=7;, score=0.921 total time=   0.1s\n",
      "[CV 3/5] END ....criterion=entropy, max_depth=7;, score=0.930 total time=   0.1s\n",
      "[CV 4/5] END ....criterion=entropy, max_depth=7;, score=0.911 total time=   0.1s\n",
      "[CV 5/5] END ....criterion=entropy, max_depth=7;, score=0.916 total time=   0.1s\n",
      "[CV 1/5] END ...criterion=entropy, max_depth=10;, score=0.834 total time=   0.2s\n",
      "[CV 2/5] END ...criterion=entropy, max_depth=10;, score=0.929 total time=   0.1s\n",
      "[CV 3/5] END ...criterion=entropy, max_depth=10;, score=0.930 total time=   0.2s\n",
      "[CV 4/5] END ...criterion=entropy, max_depth=10;, score=0.911 total time=   0.2s\n",
      "[CV 5/5] END ...criterion=entropy, max_depth=10;, score=0.914 total time=   0.2s\n",
      "[CV 1/5] END ...criterion=entropy, max_depth=15;, score=0.820 total time=   0.1s\n",
      "[CV 2/5] END ...criterion=entropy, max_depth=15;, score=0.929 total time=   0.2s\n",
      "[CV 3/5] END ...criterion=entropy, max_depth=15;, score=0.931 total time=   0.4s\n",
      "[CV 4/5] END ...criterion=entropy, max_depth=15;, score=0.918 total time=   0.4s\n",
      "[CV 5/5] END ...criterion=entropy, max_depth=15;, score=0.913 total time=   0.3s\n",
      "[CV 1/5] END ...criterion=entropy, max_depth=20;, score=0.817 total time=   0.3s\n",
      "[CV 2/5] END ...criterion=entropy, max_depth=20;, score=0.923 total time=   0.4s\n",
      "[CV 3/5] END ...criterion=entropy, max_depth=20;, score=0.922 total time=   0.4s\n",
      "[CV 4/5] END ...criterion=entropy, max_depth=20;, score=0.915 total time=   0.3s\n",
      "[CV 5/5] END ...criterion=entropy, max_depth=20;, score=0.917 total time=   0.2s\n"
     ]
    },
    {
     "data": {
      "text/plain": [
       "{'criterion': 'gini', 'max_depth': 10}"
      ]
     },
     "execution_count": 27,
     "metadata": {},
     "output_type": "execute_result"
    }
   ],
   "source": [
    "tree_classifier_smt = DecisionTreeClassifier()\n",
    "grid_smt = GridSearchCV(estimator=tree_classifier_smt, \n",
    "                    param_grid=params_smt, \n",
    "                    cv=5, \n",
    "                    verbose=8)\n",
    "grid_smt.fit(X_train_smote, y_train)\n",
    "grid_smt.best_params_"
   ]
  },
  {
   "cell_type": "code",
   "execution_count": 28,
   "id": "f29d7e31",
   "metadata": {},
   "outputs": [
    {
     "data": {
      "text/html": [
       "<style>#sk-container-id-4 {color: black;background-color: white;}#sk-container-id-4 pre{padding: 0;}#sk-container-id-4 div.sk-toggleable {background-color: white;}#sk-container-id-4 label.sk-toggleable__label {cursor: pointer;display: block;width: 100%;margin-bottom: 0;padding: 0.3em;box-sizing: border-box;text-align: center;}#sk-container-id-4 label.sk-toggleable__label-arrow:before {content: \"▸\";float: left;margin-right: 0.25em;color: #696969;}#sk-container-id-4 label.sk-toggleable__label-arrow:hover:before {color: black;}#sk-container-id-4 div.sk-estimator:hover label.sk-toggleable__label-arrow:before {color: black;}#sk-container-id-4 div.sk-toggleable__content {max-height: 0;max-width: 0;overflow: hidden;text-align: left;background-color: #f0f8ff;}#sk-container-id-4 div.sk-toggleable__content pre {margin: 0.2em;color: black;border-radius: 0.25em;background-color: #f0f8ff;}#sk-container-id-4 input.sk-toggleable__control:checked~div.sk-toggleable__content {max-height: 200px;max-width: 100%;overflow: auto;}#sk-container-id-4 input.sk-toggleable__control:checked~label.sk-toggleable__label-arrow:before {content: \"▾\";}#sk-container-id-4 div.sk-estimator input.sk-toggleable__control:checked~label.sk-toggleable__label {background-color: #d4ebff;}#sk-container-id-4 div.sk-label input.sk-toggleable__control:checked~label.sk-toggleable__label {background-color: #d4ebff;}#sk-container-id-4 input.sk-hidden--visually {border: 0;clip: rect(1px 1px 1px 1px);clip: rect(1px, 1px, 1px, 1px);height: 1px;margin: -1px;overflow: hidden;padding: 0;position: absolute;width: 1px;}#sk-container-id-4 div.sk-estimator {font-family: monospace;background-color: #f0f8ff;border: 1px dotted black;border-radius: 0.25em;box-sizing: border-box;margin-bottom: 0.5em;}#sk-container-id-4 div.sk-estimator:hover {background-color: #d4ebff;}#sk-container-id-4 div.sk-parallel-item::after {content: \"\";width: 100%;border-bottom: 1px solid gray;flex-grow: 1;}#sk-container-id-4 div.sk-label:hover label.sk-toggleable__label {background-color: #d4ebff;}#sk-container-id-4 div.sk-serial::before {content: \"\";position: absolute;border-left: 1px solid gray;box-sizing: border-box;top: 0;bottom: 0;left: 50%;z-index: 0;}#sk-container-id-4 div.sk-serial {display: flex;flex-direction: column;align-items: center;background-color: white;padding-right: 0.2em;padding-left: 0.2em;position: relative;}#sk-container-id-4 div.sk-item {position: relative;z-index: 1;}#sk-container-id-4 div.sk-parallel {display: flex;align-items: stretch;justify-content: center;background-color: white;position: relative;}#sk-container-id-4 div.sk-item::before, #sk-container-id-4 div.sk-parallel-item::before {content: \"\";position: absolute;border-left: 1px solid gray;box-sizing: border-box;top: 0;bottom: 0;left: 50%;z-index: -1;}#sk-container-id-4 div.sk-parallel-item {display: flex;flex-direction: column;z-index: 1;position: relative;background-color: white;}#sk-container-id-4 div.sk-parallel-item:first-child::after {align-self: flex-end;width: 50%;}#sk-container-id-4 div.sk-parallel-item:last-child::after {align-self: flex-start;width: 50%;}#sk-container-id-4 div.sk-parallel-item:only-child::after {width: 0;}#sk-container-id-4 div.sk-dashed-wrapped {border: 1px dashed gray;margin: 0 0.4em 0.5em 0.4em;box-sizing: border-box;padding-bottom: 0.4em;background-color: white;}#sk-container-id-4 div.sk-label label {font-family: monospace;font-weight: bold;display: inline-block;line-height: 1.2em;}#sk-container-id-4 div.sk-label-container {text-align: center;}#sk-container-id-4 div.sk-container {/* jupyter's `normalize.less` sets `[hidden] { display: none; }` but bootstrap.min.css set `[hidden] { display: none !important; }` so we also need the `!important` here to be able to override the default hidden behavior on the sphinx rendered scikit-learn.org. See: https://github.com/scikit-learn/scikit-learn/issues/21755 */display: inline-block !important;position: relative;}#sk-container-id-4 div.sk-text-repr-fallback {display: none;}</style><div id=\"sk-container-id-4\" class=\"sk-top-container\"><div class=\"sk-text-repr-fallback\"><pre>DecisionTreeClassifier(criterion=&#x27;entropy&#x27;, max_depth=10)</pre><b>In a Jupyter environment, please rerun this cell to show the HTML representation or trust the notebook. <br />On GitHub, the HTML representation is unable to render, please try loading this page with nbviewer.org.</b></div><div class=\"sk-container\" hidden><div class=\"sk-item\"><div class=\"sk-estimator sk-toggleable\"><input class=\"sk-toggleable__control sk-hidden--visually\" id=\"sk-estimator-id-4\" type=\"checkbox\" checked><label for=\"sk-estimator-id-4\" class=\"sk-toggleable__label sk-toggleable__label-arrow\">DecisionTreeClassifier</label><div class=\"sk-toggleable__content\"><pre>DecisionTreeClassifier(criterion=&#x27;entropy&#x27;, max_depth=10)</pre></div></div></div></div></div>"
      ],
      "text/plain": [
       "DecisionTreeClassifier(criterion='entropy', max_depth=10)"
      ]
     },
     "execution_count": 28,
     "metadata": {},
     "output_type": "execute_result"
    }
   ],
   "source": [
    "tree_classifier_smt = DecisionTreeClassifier(criterion = 'entropy', max_depth = 10)\n",
    "tree_classifier_smt.fit(X_train_smote, y_train)"
   ]
  },
  {
   "cell_type": "code",
   "execution_count": 29,
   "id": "378bc7bd",
   "metadata": {},
   "outputs": [
    {
     "name": "stdout",
     "output_type": "stream",
     "text": [
      "Train result: 0.9380318418885534\n",
      "Test result: 0.8709066305818673\n",
      "\n",
      "               precision    recall  f1-score   support\n",
      "\n",
      "           0       0.94      0.90      0.92      3123\n",
      "           1       0.57      0.71      0.63       572\n",
      "\n",
      "    accuracy                           0.87      3695\n",
      "   macro avg       0.76      0.80      0.78      3695\n",
      "weighted avg       0.89      0.87      0.88      3695\n",
      "\n"
     ]
    },
    {
     "data": {
      "image/png": "[encoded data removed]",
      "text/plain": [
       "<Figure size 432x288 with 2 Axes>"
      ]
     },
     "metadata": {
      "needs_background": "light"
     },
     "output_type": "display_data"
    }
   ],
   "source": [
    "y_pred_train_smt = tree_classifier_smt.predict(X_train_smote)\n",
    "y_pred_test_smt = tree_classifier_smt.predict(X_test_scaled)\n",
    "    \n",
    "train_result_smt = accuracy_score(y_train, y_pred_train_smt)\n",
    "print(\"Train result:\", train_result_smt)\n",
    "test_result_smt = accuracy_score(y_test, y_pred_test_smt)\n",
    "print(\"Test result:\", test_result_smt)\n",
    "print(\"\\n\", classification_report(y_test, y_pred_test_smt))\n",
    "\n",
    "cnf_matrix(y_pred_test_smt, plt.cm.Reds)"
   ]
  },
  {
   "cell_type": "code",
   "execution_count": 30,
   "id": "c37775dc",
   "metadata": {},
   "outputs": [],
   "source": [
    "fpr_tree, tpr_tree, threshold_tree = roc_curve(y_test, y_pred_test)\n",
    "roc_auc_tree = auc(fpr_tree, tpr_tree)"
   ]
  },
  {
   "cell_type": "code",
   "execution_count": 31,
   "id": "d8f0b8f2",
   "metadata": {},
   "outputs": [],
   "source": [
    "fpr_tree_smt, tpr_tree_smt, threshold_tree_smt = roc_curve(y_test, y_pred_test_smt)\n",
    "roc_auc_tree_smt = auc(fpr_tree_smt, tpr_tree_smt)"
   ]
  },
  {
   "cell_type": "code",
   "execution_count": 32,
   "id": "9cd6c496",
   "metadata": {},
   "outputs": [
    {
     "data": {
      "image/png": "[encoded data removed]",
      "text/plain": [
       "<Figure size 576x288 with 1 Axes>"
      ]
     },
     "metadata": {
      "needs_background": "light"
     },
     "output_type": "display_data"
    }
   ],
   "source": [
    "fig = plt.figure(figsize=(8, 4))\n",
    "\n",
    "plt.plot(fpr_tree, tpr_tree, color='r', label = 'DecisionTree (AUC = %0.2f)' % roc_auc_tree)\n",
    "plt.plot(fpr_tree_smt, tpr_tree_smt, color='g', label = 'DecisionTree smt (AUC = %0.2f)' % roc_auc_tree_smt)\n",
    "\n",
    "plt.grid()\n",
    "plt.title(\"Model comparison\")\n",
    "plt.ylabel('True Positive Rate')\n",
    "plt.xlabel('False Positive Rate')\n",
    "plt.legend(loc = 'lower right')\n",
    "plt.plot([0, 1], [0, 1], '--', color='gray')\n",
    "plt.tight_layout()\n",
    "plt.show()"
   ]
  },
  {
   "cell_type": "code",
   "execution_count": 33,
   "id": "04360927",
   "metadata": {},
   "outputs": [
    {
     "name": "stdout",
     "output_type": "stream",
     "text": [
      "Stored 'fpr_tree' (ndarray)\n",
      "Stored 'tpr_tree' (ndarray)\n",
      "Stored 'threshold_tree' (ndarray)\n",
      "Stored 'roc_auc_tree' (float64)\n"
     ]
    }
   ],
   "source": [
    "%store fpr_tree\n",
    "%store tpr_tree\n",
    "%store threshold_tree\n",
    "%store roc_auc_tree"
   ]
  },
  {
   "cell_type": "code",
   "execution_count": 34,
   "id": "a7f0b34f",
   "metadata": {},
   "outputs": [
    {
     "name": "stdout",
     "output_type": "stream",
     "text": [
      "Stored 'fpr_tree_smt' (ndarray)\n",
      "Stored 'tpr_tree_smt' (ndarray)\n",
      "Stored 'threshold_tree_smt' (ndarray)\n",
      "Stored 'roc_auc_tree_smt' (float64)\n"
     ]
    }
   ],
   "source": [
    "%store fpr_tree_smt\n",
    "%store tpr_tree_smt\n",
    "%store threshold_tree_smt\n",
    "%store roc_auc_tree_smt"
   ]
  },
  {
   "cell_type": "code",
   "execution_count": null,
   "id": "2c76bd63",
   "metadata": {},
   "outputs": [],
   "source": []
  }
 ],
 "metadata": {
  "interpreter": {
   "hash": "31f2aee4e71d21fbe5cf8b01ff0e069b9275f58929596ceb00d14d90e3e16cd6"
  },
  "kernelspec": {
   "display_name": "Python 3",
   "language": "python",
   "name": "python3"
  },
  "language_info": {
   "codemirror_mode": {
    "name": "ipython",
    "version": 3
   },
   "file_extension": ".py",
   "mimetype": "text/x-python",
   "name": "python",
   "nbconvert_exporter": "python",
   "pygments_lexer": "ipython3",
   "version": "3.8.10"
  }
 },
 "nbformat": 4,
 "nbformat_minor": 5
}
