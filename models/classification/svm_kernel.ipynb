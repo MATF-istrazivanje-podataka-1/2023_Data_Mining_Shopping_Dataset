{
 "cells": [
  {
   "cell_type": "code",
   "execution_count": 1,
   "id": "5028cce8",
   "metadata": {},
   "outputs": [],
   "source": [
    "import numpy as np\n",
    "import pandas as pd\n",
    "import seaborn as sns\n",
    "import matplotlib.pyplot as plt\n",
    "from sklearn.model_selection import train_test_split\n",
    "from sklearn.preprocessing import StandardScaler\n",
    "from imblearn.over_sampling import SMOTE\n",
    "from sklearn.metrics import accuracy_score\n",
    "from sklearn.metrics import classification_report\n",
    "from sklearn.metrics import confusion_matrix\n",
    "from sklearn.metrics import ConfusionMatrixDisplay\n",
    "from sklearn.model_selection import GridSearchCV\n",
    "from sklearn.svm import SVC\n",
    "from sklearn.metrics import roc_curve, auc\n",
    "from joblib import load\n",
    "import warnings\n",
    "warnings.filterwarnings('ignore')"
   ]
  },
  {
   "cell_type": "code",
   "execution_count": 2,
   "id": "336c0e0c",
   "metadata": {},
   "outputs": [],
   "source": [
    "X_train, X_test, y_train, y_test, X_train_scaled, X_test_scaled = load('../../analysis and preprocessing/classification_preprocessed.joblib')"
   ]
  },
  {
   "cell_type": "code",
   "execution_count": 3,
   "id": "a97baacb",
   "metadata": {},
   "outputs": [],
   "source": [
    "def cnf_matrix(y_pred_test, colormap): \n",
    "    conf_matrix = confusion_matrix(y_test, y_pred_test)\n",
    "    cm_display = ConfusionMatrixDisplay(confusion_matrix=conf_matrix, \n",
    "                                        display_labels=[False, True])\n",
    "    \n",
    "    cm_display = cm_display.plot(cmap=colormap, values_format='g')\n"
   ]
  },
  {
   "cell_type": "code",
   "execution_count": 4,
   "id": "624ce812",
   "metadata": {},
   "outputs": [],
   "source": [
    "params = {\n",
    "    'kernel' : ['rbf', 'poly', 'sigmoid'],\n",
    "    'C' : [1.0, 2.0]\n",
    "}"
   ]
  },
  {
   "cell_type": "code",
   "execution_count": 5,
   "id": "8008c8a4",
   "metadata": {},
   "outputs": [
    {
     "name": "stdout",
     "output_type": "stream",
     "text": [
      "Fitting 5 folds for each of 6 candidates, totalling 30 fits\n",
      "[CV 1/5] END .................C=1.0, kernel=rbf;, score=0.884 total time=   2.4s\n",
      "[CV 2/5] END .................C=1.0, kernel=rbf;, score=0.892 total time=   2.3s\n",
      "[CV 3/5] END .................C=1.0, kernel=rbf;, score=0.892 total time=   2.3s\n",
      "[CV 4/5] END .................C=1.0, kernel=rbf;, score=0.875 total time=   2.2s\n",
      "[CV 5/5] END .................C=1.0, kernel=rbf;, score=0.885 total time=   2.3s\n",
      "[CV 1/5] END ................C=1.0, kernel=poly;, score=0.869 total time=   2.2s\n",
      "[CV 2/5] END ................C=1.0, kernel=poly;, score=0.865 total time=   2.4s\n",
      "[CV 3/5] END ................C=1.0, kernel=poly;, score=0.866 total time=   2.1s\n",
      "[CV 4/5] END ................C=1.0, kernel=poly;, score=0.867 total time=   2.1s\n",
      "[CV 5/5] END ................C=1.0, kernel=poly;, score=0.864 total time=   2.3s\n",
      "[CV 1/5] END .............C=1.0, kernel=sigmoid;, score=0.880 total time=   1.6s\n",
      "[CV 2/5] END .............C=1.0, kernel=sigmoid;, score=0.889 total time=   1.7s\n",
      "[CV 3/5] END .............C=1.0, kernel=sigmoid;, score=0.884 total time=   1.8s\n",
      "[CV 4/5] END .............C=1.0, kernel=sigmoid;, score=0.876 total time=   1.7s\n",
      "[CV 5/5] END .............C=1.0, kernel=sigmoid;, score=0.874 total time=   1.7s\n",
      "[CV 1/5] END .................C=2.0, kernel=rbf;, score=0.884 total time=   2.3s\n",
      "[CV 2/5] END .................C=2.0, kernel=rbf;, score=0.893 total time=   2.3s\n",
      "[CV 3/5] END .................C=2.0, kernel=rbf;, score=0.897 total time=   2.3s\n",
      "[CV 4/5] END .................C=2.0, kernel=rbf;, score=0.877 total time=   2.3s\n",
      "[CV 5/5] END .................C=2.0, kernel=rbf;, score=0.886 total time=   2.2s\n",
      "[CV 1/5] END ................C=2.0, kernel=poly;, score=0.866 total time=   2.3s\n",
      "[CV 2/5] END ................C=2.0, kernel=poly;, score=0.870 total time=   2.3s\n",
      "[CV 3/5] END ................C=2.0, kernel=poly;, score=0.868 total time=   2.2s\n",
      "[CV 4/5] END ................C=2.0, kernel=poly;, score=0.867 total time=   2.3s\n",
      "[CV 5/5] END ................C=2.0, kernel=poly;, score=0.866 total time=   2.2s\n",
      "[CV 1/5] END .............C=2.0, kernel=sigmoid;, score=0.866 total time=   1.6s\n",
      "[CV 2/5] END .............C=2.0, kernel=sigmoid;, score=0.879 total time=   1.6s\n",
      "[CV 3/5] END .............C=2.0, kernel=sigmoid;, score=0.874 total time=   1.5s\n",
      "[CV 4/5] END .............C=2.0, kernel=sigmoid;, score=0.870 total time=   1.5s\n",
      "[CV 5/5] END .............C=2.0, kernel=sigmoid;, score=0.877 total time=   1.7s\n"
     ]
    },
    {
     "data": {
      "text/plain": [
       "{'C': 2.0, 'kernel': 'rbf'}"
      ]
     },
     "execution_count": 5,
     "metadata": {},
     "output_type": "execute_result"
    }
   ],
   "source": [
    "ker = SVC(kernel = 'rbf')\n",
    "grid = GridSearchCV(estimator=ker, \n",
    "                    param_grid=params, \n",
    "                    cv = 5, \n",
    "                    verbose = 8)\n",
    "grid.fit(X_train_scaled, y_train)\n",
    "grid.best_params_"
   ]
  },
  {
   "cell_type": "code",
   "execution_count": 6,
   "id": "09c699c6",
   "metadata": {},
   "outputs": [
    {
     "data": {
      "text/html": [
       "<style>#sk-container-id-1 {color: black;background-color: white;}#sk-container-id-1 pre{padding: 0;}#sk-container-id-1 div.sk-toggleable {background-color: white;}#sk-container-id-1 label.sk-toggleable__label {cursor: pointer;display: block;width: 100%;margin-bottom: 0;padding: 0.3em;box-sizing: border-box;text-align: center;}#sk-container-id-1 label.sk-toggleable__label-arrow:before {content: \"▸\";float: left;margin-right: 0.25em;color: #696969;}#sk-container-id-1 label.sk-toggleable__label-arrow:hover:before {color: black;}#sk-container-id-1 div.sk-estimator:hover label.sk-toggleable__label-arrow:before {color: black;}#sk-container-id-1 div.sk-toggleable__content {max-height: 0;max-width: 0;overflow: hidden;text-align: left;background-color: #f0f8ff;}#sk-container-id-1 div.sk-toggleable__content pre {margin: 0.2em;color: black;border-radius: 0.25em;background-color: #f0f8ff;}#sk-container-id-1 input.sk-toggleable__control:checked~div.sk-toggleable__content {max-height: 200px;max-width: 100%;overflow: auto;}#sk-container-id-1 input.sk-toggleable__control:checked~label.sk-toggleable__label-arrow:before {content: \"▾\";}#sk-container-id-1 div.sk-estimator input.sk-toggleable__control:checked~label.sk-toggleable__label {background-color: #d4ebff;}#sk-container-id-1 div.sk-label input.sk-toggleable__control:checked~label.sk-toggleable__label {background-color: #d4ebff;}#sk-container-id-1 input.sk-hidden--visually {border: 0;clip: rect(1px 1px 1px 1px);clip: rect(1px, 1px, 1px, 1px);height: 1px;margin: -1px;overflow: hidden;padding: 0;position: absolute;width: 1px;}#sk-container-id-1 div.sk-estimator {font-family: monospace;background-color: #f0f8ff;border: 1px dotted black;border-radius: 0.25em;box-sizing: border-box;margin-bottom: 0.5em;}#sk-container-id-1 div.sk-estimator:hover {background-color: #d4ebff;}#sk-container-id-1 div.sk-parallel-item::after {content: \"\";width: 100%;border-bottom: 1px solid gray;flex-grow: 1;}#sk-container-id-1 div.sk-label:hover label.sk-toggleable__label {background-color: #d4ebff;}#sk-container-id-1 div.sk-serial::before {content: \"\";position: absolute;border-left: 1px solid gray;box-sizing: border-box;top: 0;bottom: 0;left: 50%;z-index: 0;}#sk-container-id-1 div.sk-serial {display: flex;flex-direction: column;align-items: center;background-color: white;padding-right: 0.2em;padding-left: 0.2em;position: relative;}#sk-container-id-1 div.sk-item {position: relative;z-index: 1;}#sk-container-id-1 div.sk-parallel {display: flex;align-items: stretch;justify-content: center;background-color: white;position: relative;}#sk-container-id-1 div.sk-item::before, #sk-container-id-1 div.sk-parallel-item::before {content: \"\";position: absolute;border-left: 1px solid gray;box-sizing: border-box;top: 0;bottom: 0;left: 50%;z-index: -1;}#sk-container-id-1 div.sk-parallel-item {display: flex;flex-direction: column;z-index: 1;position: relative;background-color: white;}#sk-container-id-1 div.sk-parallel-item:first-child::after {align-self: flex-end;width: 50%;}#sk-container-id-1 div.sk-parallel-item:last-child::after {align-self: flex-start;width: 50%;}#sk-container-id-1 div.sk-parallel-item:only-child::after {width: 0;}#sk-container-id-1 div.sk-dashed-wrapped {border: 1px dashed gray;margin: 0 0.4em 0.5em 0.4em;box-sizing: border-box;padding-bottom: 0.4em;background-color: white;}#sk-container-id-1 div.sk-label label {font-family: monospace;font-weight: bold;display: inline-block;line-height: 1.2em;}#sk-container-id-1 div.sk-label-container {text-align: center;}#sk-container-id-1 div.sk-container {/* jupyter's `normalize.less` sets `[hidden] { display: none; }` but bootstrap.min.css set `[hidden] { display: none !important; }` so we also need the `!important` here to be able to override the default hidden behavior on the sphinx rendered scikit-learn.org. See: https://github.com/scikit-learn/scikit-learn/issues/21755 */display: inline-block !important;position: relative;}#sk-container-id-1 div.sk-text-repr-fallback {display: none;}</style><div id=\"sk-container-id-1\" class=\"sk-top-container\"><div class=\"sk-text-repr-fallback\"><pre>SVC(C=2.0)</pre><b>In a Jupyter environment, please rerun this cell to show the HTML representation or trust the notebook. <br />On GitHub, the HTML representation is unable to render, please try loading this page with nbviewer.org.</b></div><div class=\"sk-container\" hidden><div class=\"sk-item\"><div class=\"sk-estimator sk-toggleable\"><input class=\"sk-toggleable__control sk-hidden--visually\" id=\"sk-estimator-id-1\" type=\"checkbox\" checked><label for=\"sk-estimator-id-1\" class=\"sk-toggleable__label sk-toggleable__label-arrow\">SVC</label><div class=\"sk-toggleable__content\"><pre>SVC(C=2.0)</pre></div></div></div></div></div>"
      ],
      "text/plain": [
       "SVC(C=2.0)"
      ]
     },
     "execution_count": 6,
     "metadata": {},
     "output_type": "execute_result"
    }
   ],
   "source": [
    "svm_kernel = SVC(kernel = 'rbf', C = 2.0)\n",
    "svm_kernel.fit(X_train_scaled, y_train)"
   ]
  },
  {
   "cell_type": "code",
   "execution_count": 7,
   "id": "ec1454bb",
   "metadata": {},
   "outputs": [
    {
     "name": "stdout",
     "output_type": "stream",
     "text": [
      "Train result: 0.9148418491484185\n",
      "Test result: 0.8832116788321168\n",
      "\n",
      "               precision    recall  f1-score   support\n",
      "\n",
      "           0       0.90      0.98      0.93      3127\n",
      "           1       0.74      0.38      0.50       572\n",
      "\n",
      "    accuracy                           0.88      3699\n",
      "   macro avg       0.82      0.68      0.72      3699\n",
      "weighted avg       0.87      0.88      0.87      3699\n",
      "\n"
     ]
    },
    {
     "data": {
      "image/png": "[encoded data removed]",
      "text/plain": [
       "<Figure size 432x288 with 2 Axes>"
      ]
     },
     "metadata": {
      "needs_background": "light"
     },
     "output_type": "display_data"
    }
   ],
   "source": [
    "y_pred_train = svm_kernel.predict(X_train_scaled)\n",
    "y_pred_test = svm_kernel.predict(X_test_scaled)\n",
    "    \n",
    "train_result = accuracy_score(y_train, y_pred_train)\n",
    "print(\"Train result:\", train_result)\n",
    "test_result = accuracy_score(y_test, y_pred_test)\n",
    "print(\"Test result:\", test_result)\n",
    "print(\"\\n\", classification_report(y_test, y_pred_test))\n",
    "\n",
    "cnf_matrix(y_pred_test, plt.cm.Greens)"
   ]
  },
  {
   "cell_type": "markdown",
   "id": "e9693d0b",
   "metadata": {},
   "source": [
    "### Sada sa balansiranjem klasa"
   ]
  },
  {
   "cell_type": "code",
   "execution_count": 8,
   "id": "a2132bd8",
   "metadata": {},
   "outputs": [],
   "source": [
    "oversample = SMOTE(random_state = 2, sampling_strategy = 'minority')\n",
    "X_train_smote, y_train = oversample.fit_resample(X_train_scaled, y_train.ravel())"
   ]
  },
  {
   "cell_type": "code",
   "execution_count": 9,
   "id": "ec0becca",
   "metadata": {},
   "outputs": [],
   "source": [
    "params_smt = {\n",
    "    'kernel' : ['rbf', 'poly', 'sigmoid'],\n",
    "    'C' : [1.0, 2.0]\n",
    "}"
   ]
  },
  {
   "cell_type": "code",
   "execution_count": 10,
   "id": "fb9fa071",
   "metadata": {
    "scrolled": false
   },
   "outputs": [
    {
     "name": "stdout",
     "output_type": "stream",
     "text": [
      "Fitting 5 folds for each of 6 candidates, totalling 30 fits\n",
      "[CV 1/5] END .................C=1.0, kernel=rbf;, score=0.862 total time=   7.5s\n",
      "[CV 2/5] END .................C=1.0, kernel=rbf;, score=0.915 total time=   8.6s\n",
      "[CV 3/5] END .................C=1.0, kernel=rbf;, score=0.927 total time=   8.3s\n",
      "[CV 4/5] END .................C=1.0, kernel=rbf;, score=0.915 total time=   8.0s\n",
      "[CV 5/5] END .................C=1.0, kernel=rbf;, score=0.913 total time=   8.1s\n",
      "[CV 1/5] END ................C=1.0, kernel=poly;, score=0.851 total time=  11.6s\n",
      "[CV 2/5] END ................C=1.0, kernel=poly;, score=0.881 total time=  13.6s\n",
      "[CV 3/5] END ................C=1.0, kernel=poly;, score=0.890 total time=   9.8s\n",
      "[CV 4/5] END ................C=1.0, kernel=poly;, score=0.872 total time=   9.8s\n",
      "[CV 5/5] END ................C=1.0, kernel=poly;, score=0.869 total time=   9.9s\n",
      "[CV 1/5] END .............C=1.0, kernel=sigmoid;, score=0.778 total time=   7.5s\n",
      "[CV 2/5] END .............C=1.0, kernel=sigmoid;, score=0.779 total time=   9.0s\n",
      "[CV 3/5] END .............C=1.0, kernel=sigmoid;, score=0.795 total time=   8.1s\n",
      "[CV 4/5] END .............C=1.0, kernel=sigmoid;, score=0.770 total time=   7.1s\n",
      "[CV 5/5] END .............C=1.0, kernel=sigmoid;, score=0.783 total time=   7.2s\n",
      "[CV 1/5] END .................C=2.0, kernel=rbf;, score=0.874 total time=   6.5s\n",
      "[CV 2/5] END .................C=2.0, kernel=rbf;, score=0.924 total time=   7.5s\n",
      "[CV 3/5] END .................C=2.0, kernel=rbf;, score=0.938 total time=   7.5s\n",
      "[CV 4/5] END .................C=2.0, kernel=rbf;, score=0.923 total time=   7.5s\n",
      "[CV 5/5] END .................C=2.0, kernel=rbf;, score=0.919 total time=   7.5s\n",
      "[CV 1/5] END ................C=2.0, kernel=poly;, score=0.862 total time=   8.9s\n",
      "[CV 2/5] END ................C=2.0, kernel=poly;, score=0.896 total time=   9.9s\n",
      "[CV 3/5] END ................C=2.0, kernel=poly;, score=0.905 total time=   9.3s\n",
      "[CV 4/5] END ................C=2.0, kernel=poly;, score=0.884 total time=   8.7s\n",
      "[CV 5/5] END ................C=2.0, kernel=poly;, score=0.885 total time=   8.9s\n",
      "[CV 1/5] END .............C=2.0, kernel=sigmoid;, score=0.765 total time=   7.4s\n",
      "[CV 2/5] END .............C=2.0, kernel=sigmoid;, score=0.768 total time=   7.8s\n",
      "[CV 3/5] END .............C=2.0, kernel=sigmoid;, score=0.775 total time=   7.5s\n",
      "[CV 4/5] END .............C=2.0, kernel=sigmoid;, score=0.764 total time=   6.7s\n",
      "[CV 5/5] END .............C=2.0, kernel=sigmoid;, score=0.777 total time=   6.1s\n"
     ]
    },
    {
     "data": {
      "text/plain": [
       "{'C': 2.0, 'kernel': 'rbf'}"
      ]
     },
     "execution_count": 10,
     "metadata": {},
     "output_type": "execute_result"
    }
   ],
   "source": [
    "ker_smt = SVC(kernel = 'rbf')\n",
    "grid_smt = GridSearchCV(estimator=ker_smt, \n",
    "                        param_grid=params_smt, \n",
    "                        cv = 5, \n",
    "                        verbose = 8)\n",
    "grid_smt.fit(X_train_smote, y_train)\n",
    "grid_smt.best_params_"
   ]
  },
  {
   "cell_type": "code",
   "execution_count": 11,
   "id": "b80b3d3d",
   "metadata": {},
   "outputs": [
    {
     "data": {
      "text/html": [
       "<style>#sk-container-id-2 {color: black;background-color: white;}#sk-container-id-2 pre{padding: 0;}#sk-container-id-2 div.sk-toggleable {background-color: white;}#sk-container-id-2 label.sk-toggleable__label {cursor: pointer;display: block;width: 100%;margin-bottom: 0;padding: 0.3em;box-sizing: border-box;text-align: center;}#sk-container-id-2 label.sk-toggleable__label-arrow:before {content: \"▸\";float: left;margin-right: 0.25em;color: #696969;}#sk-container-id-2 label.sk-toggleable__label-arrow:hover:before {color: black;}#sk-container-id-2 div.sk-estimator:hover label.sk-toggleable__label-arrow:before {color: black;}#sk-container-id-2 div.sk-toggleable__content {max-height: 0;max-width: 0;overflow: hidden;text-align: left;background-color: #f0f8ff;}#sk-container-id-2 div.sk-toggleable__content pre {margin: 0.2em;color: black;border-radius: 0.25em;background-color: #f0f8ff;}#sk-container-id-2 input.sk-toggleable__control:checked~div.sk-toggleable__content {max-height: 200px;max-width: 100%;overflow: auto;}#sk-container-id-2 input.sk-toggleable__control:checked~label.sk-toggleable__label-arrow:before {content: \"▾\";}#sk-container-id-2 div.sk-estimator input.sk-toggleable__control:checked~label.sk-toggleable__label {background-color: #d4ebff;}#sk-container-id-2 div.sk-label input.sk-toggleable__control:checked~label.sk-toggleable__label {background-color: #d4ebff;}#sk-container-id-2 input.sk-hidden--visually {border: 0;clip: rect(1px 1px 1px 1px);clip: rect(1px, 1px, 1px, 1px);height: 1px;margin: -1px;overflow: hidden;padding: 0;position: absolute;width: 1px;}#sk-container-id-2 div.sk-estimator {font-family: monospace;background-color: #f0f8ff;border: 1px dotted black;border-radius: 0.25em;box-sizing: border-box;margin-bottom: 0.5em;}#sk-container-id-2 div.sk-estimator:hover {background-color: #d4ebff;}#sk-container-id-2 div.sk-parallel-item::after {content: \"\";width: 100%;border-bottom: 1px solid gray;flex-grow: 1;}#sk-container-id-2 div.sk-label:hover label.sk-toggleable__label {background-color: #d4ebff;}#sk-container-id-2 div.sk-serial::before {content: \"\";position: absolute;border-left: 1px solid gray;box-sizing: border-box;top: 0;bottom: 0;left: 50%;z-index: 0;}#sk-container-id-2 div.sk-serial {display: flex;flex-direction: column;align-items: center;background-color: white;padding-right: 0.2em;padding-left: 0.2em;position: relative;}#sk-container-id-2 div.sk-item {position: relative;z-index: 1;}#sk-container-id-2 div.sk-parallel {display: flex;align-items: stretch;justify-content: center;background-color: white;position: relative;}#sk-container-id-2 div.sk-item::before, #sk-container-id-2 div.sk-parallel-item::before {content: \"\";position: absolute;border-left: 1px solid gray;box-sizing: border-box;top: 0;bottom: 0;left: 50%;z-index: -1;}#sk-container-id-2 div.sk-parallel-item {display: flex;flex-direction: column;z-index: 1;position: relative;background-color: white;}#sk-container-id-2 div.sk-parallel-item:first-child::after {align-self: flex-end;width: 50%;}#sk-container-id-2 div.sk-parallel-item:last-child::after {align-self: flex-start;width: 50%;}#sk-container-id-2 div.sk-parallel-item:only-child::after {width: 0;}#sk-container-id-2 div.sk-dashed-wrapped {border: 1px dashed gray;margin: 0 0.4em 0.5em 0.4em;box-sizing: border-box;padding-bottom: 0.4em;background-color: white;}#sk-container-id-2 div.sk-label label {font-family: monospace;font-weight: bold;display: inline-block;line-height: 1.2em;}#sk-container-id-2 div.sk-label-container {text-align: center;}#sk-container-id-2 div.sk-container {/* jupyter's `normalize.less` sets `[hidden] { display: none; }` but bootstrap.min.css set `[hidden] { display: none !important; }` so we also need the `!important` here to be able to override the default hidden behavior on the sphinx rendered scikit-learn.org. See: https://github.com/scikit-learn/scikit-learn/issues/21755 */display: inline-block !important;position: relative;}#sk-container-id-2 div.sk-text-repr-fallback {display: none;}</style><div id=\"sk-container-id-2\" class=\"sk-top-container\"><div class=\"sk-text-repr-fallback\"><pre>SVC(C=2.0)</pre><b>In a Jupyter environment, please rerun this cell to show the HTML representation or trust the notebook. <br />On GitHub, the HTML representation is unable to render, please try loading this page with nbviewer.org.</b></div><div class=\"sk-container\" hidden><div class=\"sk-item\"><div class=\"sk-estimator sk-toggleable\"><input class=\"sk-toggleable__control sk-hidden--visually\" id=\"sk-estimator-id-2\" type=\"checkbox\" checked><label for=\"sk-estimator-id-2\" class=\"sk-toggleable__label sk-toggleable__label-arrow\">SVC</label><div class=\"sk-toggleable__content\"><pre>SVC(C=2.0)</pre></div></div></div></div></div>"
      ],
      "text/plain": [
       "SVC(C=2.0)"
      ]
     },
     "execution_count": 11,
     "metadata": {},
     "output_type": "execute_result"
    }
   ],
   "source": [
    "svm_kernel_smt = SVC(kernel = 'rbf', C = 2.0)\n",
    "svm_kernel_smt.fit(X_train_smote, y_train)"
   ]
  },
  {
   "cell_type": "code",
   "execution_count": 12,
   "id": "d9a5e2d8",
   "metadata": {},
   "outputs": [
    {
     "name": "stdout",
     "output_type": "stream",
     "text": [
      "Train result: 0.9400959561343386\n",
      "Test result: 0.8653690186536902\n",
      "\n",
      "               precision    recall  f1-score   support\n",
      "\n",
      "           0       0.93      0.91      0.92      3127\n",
      "           1       0.56      0.62      0.59       572\n",
      "\n",
      "    accuracy                           0.87      3699\n",
      "   macro avg       0.74      0.77      0.75      3699\n",
      "weighted avg       0.87      0.87      0.87      3699\n",
      "\n"
     ]
    },
    {
     "data": {
      "image/png": "[encoded data removed]",
      "text/plain": [
       "<Figure size 432x288 with 2 Axes>"
      ]
     },
     "metadata": {
      "needs_background": "light"
     },
     "output_type": "display_data"
    }
   ],
   "source": [
    "y_pred_train_smt = svm_kernel_smt.predict(X_train_smote)\n",
    "y_pred_test_smt = svm_kernel_smt.predict(X_test_scaled)\n",
    "    \n",
    "train_result_smt = accuracy_score(y_train, y_pred_train_smt)\n",
    "print(\"Train result:\", train_result_smt)\n",
    "test_result_smt = accuracy_score(y_test, y_pred_test_smt)\n",
    "print(\"Test result:\", test_result_smt)\n",
    "print(\"\\n\", classification_report(y_test, y_pred_test_smt))\n",
    "\n",
    "cnf_matrix(y_pred_test_smt, plt.cm.Reds)"
   ]
  },
  {
   "cell_type": "code",
   "execution_count": 13,
   "id": "f5e7231f",
   "metadata": {},
   "outputs": [],
   "source": [
    "fpr_svm_ker, tpr_svm_ker, threshold_svm_ker = roc_curve(y_test, y_pred_test)\n",
    "roc_auc_svm_ker = auc(fpr_svm_ker, tpr_svm_ker)"
   ]
  },
  {
   "cell_type": "code",
   "execution_count": 14,
   "id": "a192be3f",
   "metadata": {},
   "outputs": [],
   "source": [
    "fpr_svm_ker_smt, tpr_svm_ker_smt, threshold_svm_ker_smt = roc_curve(y_test, y_pred_test_smt)\n",
    "roc_auc_svm_ker_smt = auc(fpr_svm_ker_smt, tpr_svm_ker_smt)"
   ]
  },
  {
   "cell_type": "code",
   "execution_count": 15,
   "id": "fcc2d121",
   "metadata": {},
   "outputs": [
    {
     "data": {
      "image/png": "[encoded data removed]",
      "text/plain": [
       "<Figure size 576x288 with 1 Axes>"
      ]
     },
     "metadata": {
      "needs_background": "light"
     },
     "output_type": "display_data"
    }
   ],
   "source": [
    "fig = plt.figure(figsize=(8, 4))\n",
    "\n",
    "plt.plot(fpr_svm_ker, tpr_svm_ker, color='c', label = 'SVM ker (AUC = %0.2f)' % roc_auc_svm_ker)\n",
    "plt.plot(fpr_svm_ker_smt, tpr_svm_ker_smt, color='r', label = 'SVM ker smt (AUC = %0.2f)' % roc_auc_svm_ker_smt)\n",
    "\n",
    "plt.grid()\n",
    "plt.title(\"Model comparison\")\n",
    "plt.ylabel('True Positive Rate')\n",
    "plt.xlabel('False Positive Rate')\n",
    "plt.legend(loc = 'lower right')\n",
    "plt.plot([0, 1], [0, 1], '--', color='gray')\n",
    "plt.tight_layout()\n",
    "plt.show()"
   ]
  },
  {
   "cell_type": "code",
   "execution_count": 16,
   "id": "fe2ef8d7",
   "metadata": {},
   "outputs": [
    {
     "name": "stdout",
     "output_type": "stream",
     "text": [
      "Stored 'fpr_svm_ker' (ndarray)\n",
      "Stored 'tpr_svm_ker' (ndarray)\n",
      "Stored 'threshold_svm_ker' (ndarray)\n",
      "Stored 'roc_auc_svm_ker' (float64)\n"
     ]
    }
   ],
   "source": [
    "%store fpr_svm_ker\n",
    "%store tpr_svm_ker\n",
    "%store threshold_svm_ker\n",
    "%store roc_auc_svm_ker"
   ]
  },
  {
   "cell_type": "code",
   "execution_count": 17,
   "id": "9d16c98e",
   "metadata": {},
   "outputs": [
    {
     "name": "stdout",
     "output_type": "stream",
     "text": [
      "Stored 'fpr_svm_ker_smt' (ndarray)\n",
      "Stored 'tpr_svm_ker_smt' (ndarray)\n",
      "Stored 'threshold_svm_ker_smt' (ndarray)\n",
      "Stored 'roc_auc_svm_ker_smt' (float64)\n"
     ]
    }
   ],
   "source": [
    "%store fpr_svm_ker_smt\n",
    "%store tpr_svm_ker_smt\n",
    "%store threshold_svm_ker_smt\n",
    "%store roc_auc_svm_ker_smt"
   ]
  },
  {
   "cell_type": "code",
   "execution_count": null,
   "id": "5909a41a",
   "metadata": {},
   "outputs": [],
   "source": []
  }
 ],
 "metadata": {
  "kernelspec": {
   "display_name": "Python 3",
   "language": "python",
   "name": "python3"
  },
  "language_info": {
   "codemirror_mode": {
    "name": "ipython",
    "version": 3
   },
   "file_extension": ".py",
   "mimetype": "text/x-python",
   "name": "python",
   "nbconvert_exporter": "python",
   "pygments_lexer": "ipython3",
   "version": "3.8.10"
  }
 },
 "nbformat": 4,
 "nbformat_minor": 5
}
