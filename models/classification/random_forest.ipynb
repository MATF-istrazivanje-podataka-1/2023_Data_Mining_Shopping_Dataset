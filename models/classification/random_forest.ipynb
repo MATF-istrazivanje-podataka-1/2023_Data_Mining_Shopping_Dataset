{
 "cells": [
  {
   "cell_type": "code",
   "execution_count": 91,
   "id": "08459f84",
   "metadata": {},
   "outputs": [],
   "source": [
    "import numpy as np\n",
    "import pandas as pd\n",
    "import seaborn as sns\n",
    "import matplotlib.pyplot as plt\n",
    "from sklearn.model_selection import train_test_split\n",
    "from sklearn.preprocessing import StandardScaler\n",
    "from imblearn.over_sampling import SMOTE\n",
    "from sklearn.ensemble import RandomForestClassifier\n",
    "from sklearn.metrics import accuracy_score\n",
    "from sklearn.metrics import classification_report\n",
    "from sklearn.metrics import confusion_matrix\n",
    "from sklearn.metrics import ConfusionMatrixDisplay\n",
    "from sklearn.model_selection import GridSearchCV\n",
    "from sklearn.metrics import roc_curve, auc"
   ]
  },
  {
   "cell_type": "code",
   "execution_count": 92,
   "id": "58f273c2",
   "metadata": {},
   "outputs": [],
   "source": [
    "dataset = pd.read_csv('../../dataset/preprocessed.csv')"
   ]
  },
  {
   "cell_type": "markdown",
   "id": "d9accd31",
   "metadata": {},
   "source": [
    "### Razdvajamo atribut Revanue od ostalih"
   ]
  },
  {
   "cell_type": "code",
   "execution_count": 93,
   "id": "f64e3a73",
   "metadata": {},
   "outputs": [],
   "source": [
    "X = dataset.drop(columns=['Revenue'])\n",
    "y = dataset['Revenue']"
   ]
  },
  {
   "cell_type": "markdown",
   "id": "1ab95e05",
   "metadata": {},
   "source": [
    "### Podela skupa na train i test"
   ]
  },
  {
   "cell_type": "code",
   "execution_count": 94,
   "id": "b09b6a90",
   "metadata": {},
   "outputs": [],
   "source": [
    "X_train, X_test, y_train, y_test = train_test_split(X, y, random_state=7, test_size=0.3, stratify = y)\n",
    "X_train_original = pd.DataFrame(X_train, columns = X.columns)"
   ]
  },
  {
   "cell_type": "markdown",
   "id": "b7d89f88",
   "metadata": {},
   "source": [
    "### Standardizacija"
   ]
  },
  {
   "cell_type": "code",
   "execution_count": 95,
   "id": "7a958d27",
   "metadata": {},
   "outputs": [],
   "source": [
    "stand = StandardScaler()\n",
    "X_train_scaled = stand.fit_transform(X_train)\n",
    "X_test_scaled = stand.transform(X_test)"
   ]
  },
  {
   "cell_type": "code",
   "execution_count": 96,
   "id": "53cdf7c7",
   "metadata": {},
   "outputs": [
    {
     "data": {
      "text/plain": [
       "(8442, 73)"
      ]
     },
     "execution_count": 96,
     "metadata": {},
     "output_type": "execute_result"
    }
   ],
   "source": [
    "X_train_scaled = pd.DataFrame(X_train_scaled, columns = X.columns)\n",
    "X_train_scaled.shape"
   ]
  },
  {
   "cell_type": "code",
   "execution_count": 97,
   "id": "05af2387",
   "metadata": {},
   "outputs": [
    {
     "data": {
      "text/plain": [
       "(3618, 73)"
      ]
     },
     "execution_count": 97,
     "metadata": {},
     "output_type": "execute_result"
    }
   ],
   "source": [
    "X_test_scaled = pd.DataFrame(X_test_scaled, columns = X.columns)\n",
    "X_test_scaled.shape"
   ]
  },
  {
   "cell_type": "markdown",
   "id": "fddc3648",
   "metadata": {},
   "source": [
    "### Prikaz nekih atributa pre i posle standardizacije"
   ]
  },
  {
   "cell_type": "code",
   "execution_count": 98,
   "id": "562a8896",
   "metadata": {},
   "outputs": [
    {
     "data": {
      "text/plain": [
       "[Text(0.5, 0, ''), Text(0, 0.5, '')]"
      ]
     },
     "execution_count": 98,
     "metadata": {},
     "output_type": "execute_result"
    },
    {
     "data": {
      "image/png": "[encoded data removed]",
      "text/plain": [
       "<Figure size 720x216 with 2 Axes>"
      ]
     },
     "metadata": {
      "needs_background": "light"
     },
     "output_type": "display_data"
    }
   ],
   "source": [
    "fig, (ax1, ax2) = plt.subplots(ncols=2, figsize=(10,3))\n",
    "\n",
    "sns.kdeplot(X_train_original['SpecialDay'], ax=ax1, label='SpecialDay', color='r')\n",
    "sns.kdeplot(X_train_original['ExitRates'], ax=ax1, label='ExitRates', color='b')\n",
    "ax1.set_title('Before Standardize')\n",
    "ax1.legend(loc=\"upper right\")\n",
    "ax1.set(xlabel=None, ylabel=None)\n",
    "\n",
    "sns.kdeplot(X_train_scaled['SpecialDay'], ax=ax2, label='SpecialDay', color='r')\n",
    "sns.kdeplot(X_train_scaled['ExitRates'], ax=ax2, label='ExitRates', color='b')\n",
    "ax2.set_title('After Standardize')\n",
    "ax2.legend(loc=\"upper right\")\n",
    "ax2.set(xlabel=None, ylabel=None)"
   ]
  },
  {
   "cell_type": "markdown",
   "id": "76243c2d",
   "metadata": {},
   "source": [
    "### Crtanje matrice"
   ]
  },
  {
   "cell_type": "code",
   "execution_count": 99,
   "id": "0a6f0ea4",
   "metadata": {},
   "outputs": [],
   "source": [
    "def cnf_matrix(y_pred_test, colormap): \n",
    "    conf_matrix = confusion_matrix(y_test, y_pred_test)\n",
    "    cm_display = ConfusionMatrixDisplay(confusion_matrix=conf_matrix, \n",
    "                                        display_labels=[False, True])\n",
    "    \n",
    "    cm_display = cm_display.plot(cmap=colormap, values_format='g')\n"
   ]
  },
  {
   "cell_type": "markdown",
   "id": "64122d92",
   "metadata": {},
   "source": [
    "### Hiper parametri"
   ]
  },
  {
   "cell_type": "code",
   "execution_count": 100,
   "id": "7d8e44b2",
   "metadata": {},
   "outputs": [],
   "source": [
    "params = {\n",
    "    'n_estimators' : range(5, 20, 5),\n",
    "    'criterion' : ['gini', 'entropy']\n",
    "}"
   ]
  },
  {
   "cell_type": "code",
   "execution_count": 101,
   "id": "bf2d637b",
   "metadata": {},
   "outputs": [
    {
     "name": "stdout",
     "output_type": "stream",
     "text": [
      "Fitting 5 folds for each of 6 candidates, totalling 30 fits\n",
      "[CV 1/5] END ....criterion=gini, n_estimators=5;, score=0.870 total time=   0.1s\n",
      "[CV 2/5] END ....criterion=gini, n_estimators=5;, score=0.887 total time=   0.1s\n",
      "[CV 3/5] END ....criterion=gini, n_estimators=5;, score=0.889 total time=   0.1s\n",
      "[CV 4/5] END ....criterion=gini, n_estimators=5;, score=0.883 total time=   0.1s\n",
      "[CV 5/5] END ....criterion=gini, n_estimators=5;, score=0.891 total time=   0.1s\n",
      "[CV 1/5] END ...criterion=gini, n_estimators=10;, score=0.892 total time=   0.2s\n",
      "[CV 2/5] END ...criterion=gini, n_estimators=10;, score=0.892 total time=   0.2s\n",
      "[CV 3/5] END ...criterion=gini, n_estimators=10;, score=0.889 total time=   0.1s\n",
      "[CV 4/5] END ...criterion=gini, n_estimators=10;, score=0.892 total time=   0.2s\n",
      "[CV 5/5] END ...criterion=gini, n_estimators=10;, score=0.899 total time=   0.1s\n",
      "[CV 1/5] END ...criterion=gini, n_estimators=15;, score=0.889 total time=   0.2s\n",
      "[CV 2/5] END ...criterion=gini, n_estimators=15;, score=0.896 total time=   0.3s\n",
      "[CV 3/5] END ...criterion=gini, n_estimators=15;, score=0.883 total time=   0.1s\n",
      "[CV 4/5] END ...criterion=gini, n_estimators=15;, score=0.893 total time=   0.1s\n",
      "[CV 5/5] END ...criterion=gini, n_estimators=15;, score=0.896 total time=   0.2s\n",
      "[CV 1/5] END .criterion=entropy, n_estimators=5;, score=0.881 total time=   0.1s\n",
      "[CV 2/5] END .criterion=entropy, n_estimators=5;, score=0.895 total time=   0.1s\n",
      "[CV 3/5] END .criterion=entropy, n_estimators=5;, score=0.887 total time=   0.1s\n",
      "[CV 4/5] END .criterion=entropy, n_estimators=5;, score=0.880 total time=   0.1s\n",
      "[CV 5/5] END .criterion=entropy, n_estimators=5;, score=0.888 total time=   0.1s\n",
      "[CV 1/5] END criterion=entropy, n_estimators=10;, score=0.885 total time=   0.1s\n",
      "[CV 2/5] END criterion=entropy, n_estimators=10;, score=0.889 total time=   0.1s\n",
      "[CV 3/5] END criterion=entropy, n_estimators=10;, score=0.894 total time=   0.1s\n",
      "[CV 4/5] END criterion=entropy, n_estimators=10;, score=0.883 total time=   0.1s\n",
      "[CV 5/5] END criterion=entropy, n_estimators=10;, score=0.892 total time=   0.1s\n",
      "[CV 1/5] END criterion=entropy, n_estimators=15;, score=0.890 total time=   0.2s\n",
      "[CV 2/5] END criterion=entropy, n_estimators=15;, score=0.899 total time=   0.2s\n",
      "[CV 3/5] END criterion=entropy, n_estimators=15;, score=0.890 total time=   0.2s\n",
      "[CV 4/5] END criterion=entropy, n_estimators=15;, score=0.895 total time=   0.2s\n",
      "[CV 5/5] END criterion=entropy, n_estimators=15;, score=0.893 total time=   0.2s\n"
     ]
    },
    {
     "data": {
      "text/plain": [
       "{'criterion': 'entropy', 'n_estimators': 15}"
      ]
     },
     "execution_count": 101,
     "metadata": {},
     "output_type": "execute_result"
    }
   ],
   "source": [
    "forest_classfier = RandomForestClassifier()\n",
    "grid = GridSearchCV(estimator=forest_classfier, \n",
    "                    param_grid=params, \n",
    "                    cv=5, \n",
    "                    verbose=8)\n",
    "grid.fit(X_train_scaled, y_train)\n",
    "grid.best_params_"
   ]
  },
  {
   "cell_type": "code",
   "execution_count": 102,
   "id": "8fced195",
   "metadata": {},
   "outputs": [
    {
     "data": {
      "text/html": [
       "<style>#sk-container-id-9 {color: black;background-color: white;}#sk-container-id-9 pre{padding: 0;}#sk-container-id-9 div.sk-toggleable {background-color: white;}#sk-container-id-9 label.sk-toggleable__label {cursor: pointer;display: block;width: 100%;margin-bottom: 0;padding: 0.3em;box-sizing: border-box;text-align: center;}#sk-container-id-9 label.sk-toggleable__label-arrow:before {content: \"▸\";float: left;margin-right: 0.25em;color: #696969;}#sk-container-id-9 label.sk-toggleable__label-arrow:hover:before {color: black;}#sk-container-id-9 div.sk-estimator:hover label.sk-toggleable__label-arrow:before {color: black;}#sk-container-id-9 div.sk-toggleable__content {max-height: 0;max-width: 0;overflow: hidden;text-align: left;background-color: #f0f8ff;}#sk-container-id-9 div.sk-toggleable__content pre {margin: 0.2em;color: black;border-radius: 0.25em;background-color: #f0f8ff;}#sk-container-id-9 input.sk-toggleable__control:checked~div.sk-toggleable__content {max-height: 200px;max-width: 100%;overflow: auto;}#sk-container-id-9 input.sk-toggleable__control:checked~label.sk-toggleable__label-arrow:before {content: \"▾\";}#sk-container-id-9 div.sk-estimator input.sk-toggleable__control:checked~label.sk-toggleable__label {background-color: #d4ebff;}#sk-container-id-9 div.sk-label input.sk-toggleable__control:checked~label.sk-toggleable__label {background-color: #d4ebff;}#sk-container-id-9 input.sk-hidden--visually {border: 0;clip: rect(1px 1px 1px 1px);clip: rect(1px, 1px, 1px, 1px);height: 1px;margin: -1px;overflow: hidden;padding: 0;position: absolute;width: 1px;}#sk-container-id-9 div.sk-estimator {font-family: monospace;background-color: #f0f8ff;border: 1px dotted black;border-radius: 0.25em;box-sizing: border-box;margin-bottom: 0.5em;}#sk-container-id-9 div.sk-estimator:hover {background-color: #d4ebff;}#sk-container-id-9 div.sk-parallel-item::after {content: \"\";width: 100%;border-bottom: 1px solid gray;flex-grow: 1;}#sk-container-id-9 div.sk-label:hover label.sk-toggleable__label {background-color: #d4ebff;}#sk-container-id-9 div.sk-serial::before {content: \"\";position: absolute;border-left: 1px solid gray;box-sizing: border-box;top: 0;bottom: 0;left: 50%;z-index: 0;}#sk-container-id-9 div.sk-serial {display: flex;flex-direction: column;align-items: center;background-color: white;padding-right: 0.2em;padding-left: 0.2em;position: relative;}#sk-container-id-9 div.sk-item {position: relative;z-index: 1;}#sk-container-id-9 div.sk-parallel {display: flex;align-items: stretch;justify-content: center;background-color: white;position: relative;}#sk-container-id-9 div.sk-item::before, #sk-container-id-9 div.sk-parallel-item::before {content: \"\";position: absolute;border-left: 1px solid gray;box-sizing: border-box;top: 0;bottom: 0;left: 50%;z-index: -1;}#sk-container-id-9 div.sk-parallel-item {display: flex;flex-direction: column;z-index: 1;position: relative;background-color: white;}#sk-container-id-9 div.sk-parallel-item:first-child::after {align-self: flex-end;width: 50%;}#sk-container-id-9 div.sk-parallel-item:last-child::after {align-self: flex-start;width: 50%;}#sk-container-id-9 div.sk-parallel-item:only-child::after {width: 0;}#sk-container-id-9 div.sk-dashed-wrapped {border: 1px dashed gray;margin: 0 0.4em 0.5em 0.4em;box-sizing: border-box;padding-bottom: 0.4em;background-color: white;}#sk-container-id-9 div.sk-label label {font-family: monospace;font-weight: bold;display: inline-block;line-height: 1.2em;}#sk-container-id-9 div.sk-label-container {text-align: center;}#sk-container-id-9 div.sk-container {/* jupyter's `normalize.less` sets `[hidden] { display: none; }` but bootstrap.min.css set `[hidden] { display: none !important; }` so we also need the `!important` here to be able to override the default hidden behavior on the sphinx rendered scikit-learn.org. See: https://github.com/scikit-learn/scikit-learn/issues/21755 */display: inline-block !important;position: relative;}#sk-container-id-9 div.sk-text-repr-fallback {display: none;}</style><div id=\"sk-container-id-9\" class=\"sk-top-container\"><div class=\"sk-text-repr-fallback\"><pre>RandomForestClassifier(criterion=&#x27;entropy&#x27;, n_estimators=15)</pre><b>In a Jupyter environment, please rerun this cell to show the HTML representation or trust the notebook. <br />On GitHub, the HTML representation is unable to render, please try loading this page with nbviewer.org.</b></div><div class=\"sk-container\" hidden><div class=\"sk-item\"><div class=\"sk-estimator sk-toggleable\"><input class=\"sk-toggleable__control sk-hidden--visually\" id=\"sk-estimator-id-9\" type=\"checkbox\" checked><label for=\"sk-estimator-id-9\" class=\"sk-toggleable__label sk-toggleable__label-arrow\">RandomForestClassifier</label><div class=\"sk-toggleable__content\"><pre>RandomForestClassifier(criterion=&#x27;entropy&#x27;, n_estimators=15)</pre></div></div></div></div></div>"
      ],
      "text/plain": [
       "RandomForestClassifier(criterion='entropy', n_estimators=15)"
      ]
     },
     "execution_count": 102,
     "metadata": {},
     "output_type": "execute_result"
    }
   ],
   "source": [
    "forest_classifier = RandomForestClassifier(criterion='entropy', n_estimators=15)\n",
    "forest_classifier.fit(X_train_scaled, y_train)"
   ]
  },
  {
   "cell_type": "code",
   "execution_count": 103,
   "id": "a3540017",
   "metadata": {},
   "outputs": [
    {
     "name": "stdout",
     "output_type": "stream",
     "text": [
      "Train result: 0.9966832504145937\n",
      "Test result: 0.8999447208402432\n",
      "\n",
      "               precision    recall  f1-score   support\n",
      "\n",
      "           0       0.92      0.97      0.94      3073\n",
      "           1       0.75      0.50      0.60       545\n",
      "\n",
      "    accuracy                           0.90      3618\n",
      "   macro avg       0.83      0.74      0.77      3618\n",
      "weighted avg       0.89      0.90      0.89      3618\n",
      "\n"
     ]
    },
    {
     "data": {
      "image/png": "[encoded data removed]",
      "text/plain": [
       "<Figure size 432x288 with 2 Axes>"
      ]
     },
     "metadata": {
      "needs_background": "light"
     },
     "output_type": "display_data"
    }
   ],
   "source": [
    "y_pred_train = forest_classifier.predict(X_train_scaled)\n",
    "y_pred_test = forest_classifier.predict(X_test_scaled)\n",
    "    \n",
    "train_result = accuracy_score(y_train, y_pred_train)\n",
    "print(\"Train result:\", train_result)\n",
    "test_result = accuracy_score(y_test, y_pred_test)\n",
    "print(\"Test result:\", test_result)\n",
    "  \n",
    "print(\"\\n\", classification_report(y_test, y_pred_test))\n",
    "\n",
    "cnf_matrix(y_pred_test, plt.cm.Blues)"
   ]
  },
  {
   "cell_type": "markdown",
   "id": "cf07e725",
   "metadata": {},
   "source": [
    "### Sada sa balansiranjem klasa"
   ]
  },
  {
   "cell_type": "code",
   "execution_count": 104,
   "id": "a301831a",
   "metadata": {},
   "outputs": [
    {
     "data": {
      "image/png": "[encoded data removed]",
      "text/plain": [
       "<Figure size 504x216 with 2 Axes>"
      ]
     },
     "metadata": {
      "needs_background": "light"
     },
     "output_type": "display_data"
    }
   ],
   "source": [
    "fig, (ax1, ax2) = plt.subplots(ncols=2, figsize=(7,3))\n",
    "ax1.set_title('Before SMOTE')\n",
    "ax1.bar(['0','1'], [sum(y_train == 0), sum(y_train == 1)], color = ['b', 'b'])\n",
    "\n",
    "oversample = SMOTE(random_state = 2, sampling_strategy = 'minority')\n",
    "X_train_smote, y_train = oversample.fit_resample(X_train_scaled, y_train.ravel())\n",
    "\n",
    "ax2.set_title('After SMOTE')\n",
    "ax2.bar(['0','1'], [sum(y_train == 0), sum(y_train == 1)], color = ['r', 'r'])\n",
    "\n",
    "plt.tight_layout()"
   ]
  },
  {
   "cell_type": "code",
   "execution_count": 105,
   "id": "8d780494",
   "metadata": {},
   "outputs": [],
   "source": [
    "params = {\n",
    "    'n_estimators' : range(5, 20, 5),\n",
    "    'criterion' : ['gini', 'entropy']\n",
    "}"
   ]
  },
  {
   "cell_type": "code",
   "execution_count": 106,
   "id": "0c378182",
   "metadata": {},
   "outputs": [
    {
     "name": "stdout",
     "output_type": "stream",
     "text": [
      "Fitting 5 folds for each of 6 candidates, totalling 30 fits\n",
      "[CV 1/5] END ....criterion=gini, n_estimators=5;, score=0.822 total time=   0.1s\n",
      "[CV 2/5] END ....criterion=gini, n_estimators=5;, score=0.950 total time=   0.1s\n",
      "[CV 3/5] END ....criterion=gini, n_estimators=5;, score=0.943 total time=   0.1s\n",
      "[CV 4/5] END ....criterion=gini, n_estimators=5;, score=0.948 total time=   0.1s\n",
      "[CV 5/5] END ....criterion=gini, n_estimators=5;, score=0.945 total time=   0.2s\n",
      "[CV 1/5] END ...criterion=gini, n_estimators=10;, score=0.833 total time=   0.2s\n",
      "[CV 2/5] END ...criterion=gini, n_estimators=10;, score=0.956 total time=   0.2s\n",
      "[CV 3/5] END ...criterion=gini, n_estimators=10;, score=0.960 total time=   0.2s\n",
      "[CV 4/5] END ...criterion=gini, n_estimators=10;, score=0.960 total time=   0.2s\n",
      "[CV 5/5] END ...criterion=gini, n_estimators=10;, score=0.960 total time=   0.2s\n",
      "[CV 1/5] END ...criterion=gini, n_estimators=15;, score=0.854 total time=   0.2s\n",
      "[CV 2/5] END ...criterion=gini, n_estimators=15;, score=0.953 total time=   0.3s\n",
      "[CV 3/5] END ...criterion=gini, n_estimators=15;, score=0.961 total time=   0.3s\n",
      "[CV 4/5] END ...criterion=gini, n_estimators=15;, score=0.959 total time=   0.3s\n",
      "[CV 5/5] END ...criterion=gini, n_estimators=15;, score=0.954 total time=   0.3s\n",
      "[CV 1/5] END .criterion=entropy, n_estimators=5;, score=0.851 total time=   0.1s\n",
      "[CV 2/5] END .criterion=entropy, n_estimators=5;, score=0.953 total time=   0.1s\n",
      "[CV 3/5] END .criterion=entropy, n_estimators=5;, score=0.946 total time=   0.2s\n",
      "[CV 4/5] END .criterion=entropy, n_estimators=5;, score=0.952 total time=   0.1s\n",
      "[CV 5/5] END .criterion=entropy, n_estimators=5;, score=0.947 total time=   0.1s\n",
      "[CV 1/5] END criterion=entropy, n_estimators=10;, score=0.821 total time=   0.2s\n",
      "[CV 2/5] END criterion=entropy, n_estimators=10;, score=0.954 total time=   0.3s\n",
      "[CV 3/5] END criterion=entropy, n_estimators=10;, score=0.961 total time=   0.2s\n",
      "[CV 4/5] END criterion=entropy, n_estimators=10;, score=0.961 total time=   0.2s\n",
      "[CV 5/5] END criterion=entropy, n_estimators=10;, score=0.960 total time=   0.2s\n",
      "[CV 1/5] END criterion=entropy, n_estimators=15;, score=0.840 total time=   0.3s\n",
      "[CV 2/5] END criterion=entropy, n_estimators=15;, score=0.957 total time=   0.3s\n",
      "[CV 3/5] END criterion=entropy, n_estimators=15;, score=0.962 total time=   0.3s\n",
      "[CV 4/5] END criterion=entropy, n_estimators=15;, score=0.962 total time=   0.3s\n",
      "[CV 5/5] END criterion=entropy, n_estimators=15;, score=0.958 total time=   0.4s\n"
     ]
    },
    {
     "data": {
      "text/plain": [
       "{'criterion': 'gini', 'n_estimators': 15}"
      ]
     },
     "execution_count": 106,
     "metadata": {},
     "output_type": "execute_result"
    }
   ],
   "source": [
    "forest_classfier = RandomForestClassifier()\n",
    "grid = GridSearchCV(estimator=forest_classfier, \n",
    "                    param_grid=params, \n",
    "                    cv=5, \n",
    "                    verbose=8)\n",
    "grid.fit(X_train_smote, y_train)\n",
    "grid.best_params_"
   ]
  },
  {
   "cell_type": "code",
   "execution_count": 107,
   "id": "cd970bf4",
   "metadata": {},
   "outputs": [
    {
     "data": {
      "text/html": [
       "<style>#sk-container-id-10 {color: black;background-color: white;}#sk-container-id-10 pre{padding: 0;}#sk-container-id-10 div.sk-toggleable {background-color: white;}#sk-container-id-10 label.sk-toggleable__label {cursor: pointer;display: block;width: 100%;margin-bottom: 0;padding: 0.3em;box-sizing: border-box;text-align: center;}#sk-container-id-10 label.sk-toggleable__label-arrow:before {content: \"▸\";float: left;margin-right: 0.25em;color: #696969;}#sk-container-id-10 label.sk-toggleable__label-arrow:hover:before {color: black;}#sk-container-id-10 div.sk-estimator:hover label.sk-toggleable__label-arrow:before {color: black;}#sk-container-id-10 div.sk-toggleable__content {max-height: 0;max-width: 0;overflow: hidden;text-align: left;background-color: #f0f8ff;}#sk-container-id-10 div.sk-toggleable__content pre {margin: 0.2em;color: black;border-radius: 0.25em;background-color: #f0f8ff;}#sk-container-id-10 input.sk-toggleable__control:checked~div.sk-toggleable__content {max-height: 200px;max-width: 100%;overflow: auto;}#sk-container-id-10 input.sk-toggleable__control:checked~label.sk-toggleable__label-arrow:before {content: \"▾\";}#sk-container-id-10 div.sk-estimator input.sk-toggleable__control:checked~label.sk-toggleable__label {background-color: #d4ebff;}#sk-container-id-10 div.sk-label input.sk-toggleable__control:checked~label.sk-toggleable__label {background-color: #d4ebff;}#sk-container-id-10 input.sk-hidden--visually {border: 0;clip: rect(1px 1px 1px 1px);clip: rect(1px, 1px, 1px, 1px);height: 1px;margin: -1px;overflow: hidden;padding: 0;position: absolute;width: 1px;}#sk-container-id-10 div.sk-estimator {font-family: monospace;background-color: #f0f8ff;border: 1px dotted black;border-radius: 0.25em;box-sizing: border-box;margin-bottom: 0.5em;}#sk-container-id-10 div.sk-estimator:hover {background-color: #d4ebff;}#sk-container-id-10 div.sk-parallel-item::after {content: \"\";width: 100%;border-bottom: 1px solid gray;flex-grow: 1;}#sk-container-id-10 div.sk-label:hover label.sk-toggleable__label {background-color: #d4ebff;}#sk-container-id-10 div.sk-serial::before {content: \"\";position: absolute;border-left: 1px solid gray;box-sizing: border-box;top: 0;bottom: 0;left: 50%;z-index: 0;}#sk-container-id-10 div.sk-serial {display: flex;flex-direction: column;align-items: center;background-color: white;padding-right: 0.2em;padding-left: 0.2em;position: relative;}#sk-container-id-10 div.sk-item {position: relative;z-index: 1;}#sk-container-id-10 div.sk-parallel {display: flex;align-items: stretch;justify-content: center;background-color: white;position: relative;}#sk-container-id-10 div.sk-item::before, #sk-container-id-10 div.sk-parallel-item::before {content: \"\";position: absolute;border-left: 1px solid gray;box-sizing: border-box;top: 0;bottom: 0;left: 50%;z-index: -1;}#sk-container-id-10 div.sk-parallel-item {display: flex;flex-direction: column;z-index: 1;position: relative;background-color: white;}#sk-container-id-10 div.sk-parallel-item:first-child::after {align-self: flex-end;width: 50%;}#sk-container-id-10 div.sk-parallel-item:last-child::after {align-self: flex-start;width: 50%;}#sk-container-id-10 div.sk-parallel-item:only-child::after {width: 0;}#sk-container-id-10 div.sk-dashed-wrapped {border: 1px dashed gray;margin: 0 0.4em 0.5em 0.4em;box-sizing: border-box;padding-bottom: 0.4em;background-color: white;}#sk-container-id-10 div.sk-label label {font-family: monospace;font-weight: bold;display: inline-block;line-height: 1.2em;}#sk-container-id-10 div.sk-label-container {text-align: center;}#sk-container-id-10 div.sk-container {/* jupyter's `normalize.less` sets `[hidden] { display: none; }` but bootstrap.min.css set `[hidden] { display: none !important; }` so we also need the `!important` here to be able to override the default hidden behavior on the sphinx rendered scikit-learn.org. See: https://github.com/scikit-learn/scikit-learn/issues/21755 */display: inline-block !important;position: relative;}#sk-container-id-10 div.sk-text-repr-fallback {display: none;}</style><div id=\"sk-container-id-10\" class=\"sk-top-container\"><div class=\"sk-text-repr-fallback\"><pre>RandomForestClassifier(criterion=&#x27;entropy&#x27;, n_estimators=15)</pre><b>In a Jupyter environment, please rerun this cell to show the HTML representation or trust the notebook. <br />On GitHub, the HTML representation is unable to render, please try loading this page with nbviewer.org.</b></div><div class=\"sk-container\" hidden><div class=\"sk-item\"><div class=\"sk-estimator sk-toggleable\"><input class=\"sk-toggleable__control sk-hidden--visually\" id=\"sk-estimator-id-10\" type=\"checkbox\" checked><label for=\"sk-estimator-id-10\" class=\"sk-toggleable__label sk-toggleable__label-arrow\">RandomForestClassifier</label><div class=\"sk-toggleable__content\"><pre>RandomForestClassifier(criterion=&#x27;entropy&#x27;, n_estimators=15)</pre></div></div></div></div></div>"
      ],
      "text/plain": [
       "RandomForestClassifier(criterion='entropy', n_estimators=15)"
      ]
     },
     "execution_count": 107,
     "metadata": {},
     "output_type": "execute_result"
    }
   ],
   "source": [
    "forest_classifier = RandomForestClassifier(criterion='entropy', n_estimators=15)\n",
    "forest_classifier.fit(X_train_smote, y_train)"
   ]
  },
  {
   "cell_type": "code",
   "execution_count": 108,
   "id": "7aece4de",
   "metadata": {},
   "outputs": [
    {
     "name": "stdout",
     "output_type": "stream",
     "text": [
      "Train result: 0.9983960948396094\n",
      "Test result: 0.8977335544499724\n",
      "\n",
      "               precision    recall  f1-score   support\n",
      "\n",
      "           0       0.94      0.94      0.94      3073\n",
      "           1       0.65      0.69      0.67       545\n",
      "\n",
      "    accuracy                           0.90      3618\n",
      "   macro avg       0.80      0.81      0.80      3618\n",
      "weighted avg       0.90      0.90      0.90      3618\n",
      "\n"
     ]
    },
    {
     "data": {
      "image/png": "[encoded data removed]",
      "text/plain": [
       "<Figure size 432x288 with 2 Axes>"
      ]
     },
     "metadata": {
      "needs_background": "light"
     },
     "output_type": "display_data"
    }
   ],
   "source": [
    "y_pred_train = forest_classifier.predict(X_train_smote)\n",
    "y_pred_test = forest_classifier.predict(X_test_scaled)\n",
    "    \n",
    "train_result = accuracy_score(y_train, y_pred_train)\n",
    "print(\"Train result:\", train_result)\n",
    "test_result = accuracy_score(y_test, y_pred_test)\n",
    "print(\"Test result:\", test_result)\n",
    "  \n",
    "print(\"\\n\", classification_report(y_test, y_pred_test))\n",
    "\n",
    "cnf_matrix(y_pred_test, plt.cm.Reds)"
   ]
  },
  {
   "cell_type": "code",
   "execution_count": 109,
   "id": "4fed9e60",
   "metadata": {},
   "outputs": [],
   "source": [
    "fpr_forest, tpr_forest, threshold_forest = roc_curve(y_test, y_pred_test)\n",
    "roc_auc_forest = auc(fpr_forest, tpr_forest)"
   ]
  },
  {
   "cell_type": "code",
   "execution_count": 110,
   "id": "185d6fea",
   "metadata": {},
   "outputs": [
    {
     "name": "stdout",
     "output_type": "stream",
     "text": [
      "Stored 'y_pred_test' (ndarray)\n",
      "Stored 'fpr_forest' (ndarray)\n",
      "Stored 'tpr_forest' (ndarray)\n",
      "Stored 'threshold_forest' (ndarray)\n",
      "Stored 'roc_auc_forest' (float64)\n"
     ]
    }
   ],
   "source": [
    "%store y_pred_test\n",
    "%store fpr_forest\n",
    "%store tpr_forest\n",
    "%store threshold_forest\n",
    "%store roc_auc_forest"
   ]
  },
  {
   "cell_type": "code",
   "execution_count": null,
   "id": "8a640c1b",
   "metadata": {},
   "outputs": [],
   "source": []
  }
 ],
 "metadata": {
  "interpreter": {
   "hash": "31f2aee4e71d21fbe5cf8b01ff0e069b9275f58929596ceb00d14d90e3e16cd6"
  },
  "kernelspec": {
   "display_name": "Python 3",
   "language": "python",
   "name": "python3"
  },
  "language_info": {
   "codemirror_mode": {
    "name": "ipython",
    "version": 3
   },
   "file_extension": ".py",
   "mimetype": "text/x-python",
   "name": "python",
   "nbconvert_exporter": "python",
   "pygments_lexer": "ipython3",
   "version": "3.8.10"
  }
 },
 "nbformat": 4,
 "nbformat_minor": 5
}
